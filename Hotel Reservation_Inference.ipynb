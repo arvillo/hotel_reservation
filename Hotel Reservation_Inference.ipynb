{
 "cells": [
  {
   "attachments": {},
   "cell_type": "markdown",
   "metadata": {},
   "source": [
    "# Import Library"
   ]
  },
  {
   "cell_type": "code",
   "execution_count": 1,
   "metadata": {},
   "outputs": [],
   "source": [
    "import joblib\n",
    "import pandas as pd"
   ]
  },
  {
   "attachments": {},
   "cell_type": "markdown",
   "metadata": {},
   "source": [
    "# Load Model"
   ]
  },
  {
   "cell_type": "code",
   "execution_count": 2,
   "metadata": {},
   "outputs": [],
   "source": [
    "with open('model.pkl', 'rb') as file_1:\n",
    "  xgb_model = joblib.load(file_1)"
   ]
  },
  {
   "attachments": {},
   "cell_type": "markdown",
   "metadata": {},
   "source": [
    "# Inferencing"
   ]
  },
  {
   "cell_type": "code",
   "execution_count": 3,
   "metadata": {},
   "outputs": [
    {
     "data": {
      "text/html": [
       "<div>\n",
       "<style scoped>\n",
       "    .dataframe tbody tr th:only-of-type {\n",
       "        vertical-align: middle;\n",
       "    }\n",
       "\n",
       "    .dataframe tbody tr th {\n",
       "        vertical-align: top;\n",
       "    }\n",
       "\n",
       "    .dataframe thead th {\n",
       "        text-align: right;\n",
       "    }\n",
       "</style>\n",
       "<table border=\"1\" class=\"dataframe\">\n",
       "  <thead>\n",
       "    <tr style=\"text-align: right;\">\n",
       "      <th></th>\n",
       "      <th>Booking_ID</th>\n",
       "      <th>no_of_adults</th>\n",
       "      <th>no_of_children</th>\n",
       "      <th>no_of_weekend_nights</th>\n",
       "      <th>no_of_week_nights</th>\n",
       "      <th>type_of_meal_plan</th>\n",
       "      <th>required_car_parking_space</th>\n",
       "      <th>room_type_reserved</th>\n",
       "      <th>lead_time</th>\n",
       "      <th>arrival_year</th>\n",
       "      <th>arrival_month</th>\n",
       "      <th>arrival_date</th>\n",
       "      <th>market_segment_type</th>\n",
       "      <th>repeated_guest</th>\n",
       "      <th>no_of_previous_cancellations</th>\n",
       "      <th>no_of_previous_bookings_not_canceled</th>\n",
       "      <th>avg_price_per_room</th>\n",
       "      <th>no_of_special_requests</th>\n",
       "    </tr>\n",
       "  </thead>\n",
       "  <tbody>\n",
       "    <tr>\n",
       "      <th>0</th>\n",
       "      <td>INN07841</td>\n",
       "      <td>2</td>\n",
       "      <td>0</td>\n",
       "      <td>2</td>\n",
       "      <td>0</td>\n",
       "      <td>Meal Plan 1</td>\n",
       "      <td>0</td>\n",
       "      <td>Room_Type 1</td>\n",
       "      <td>100</td>\n",
       "      <td>2018</td>\n",
       "      <td>8</td>\n",
       "      <td>7</td>\n",
       "      <td>Offline</td>\n",
       "      <td>0</td>\n",
       "      <td>0</td>\n",
       "      <td>0</td>\n",
       "      <td>147.46</td>\n",
       "      <td>0</td>\n",
       "    </tr>\n",
       "  </tbody>\n",
       "</table>\n",
       "</div>"
      ],
      "text/plain": [
       "  Booking_ID  no_of_adults  no_of_children  no_of_weekend_nights   \n",
       "0   INN07841             2               0                     2  \\\n",
       "\n",
       "   no_of_week_nights type_of_meal_plan  required_car_parking_space   \n",
       "0                  0       Meal Plan 1                           0  \\\n",
       "\n",
       "  room_type_reserved  lead_time  arrival_year  arrival_month  arrival_date   \n",
       "0        Room_Type 1        100          2018              8             7  \\\n",
       "\n",
       "  market_segment_type  repeated_guest  no_of_previous_cancellations   \n",
       "0             Offline               0                             0  \\\n",
       "\n",
       "   no_of_previous_bookings_not_canceled  avg_price_per_room   \n",
       "0                                     0              147.46  \\\n",
       "\n",
       "   no_of_special_requests  \n",
       "0                       0  "
      ]
     },
     "execution_count": 3,
     "metadata": {},
     "output_type": "execute_result"
    }
   ],
   "source": [
    "data_inf = {\n",
    "    'Booking_ID': 'INN07841',\n",
    "    'no_of_adults': 2,\n",
    "    'no_of_children': 0,\n",
    "    'no_of_weekend_nights': 2,\n",
    "    'no_of_week_nights': 0,\n",
    "    'type_of_meal_plan': 'Meal Plan 1',\n",
    "    'required_car_parking_space': 0,\n",
    "    'room_type_reserved': 'Room_Type 1',\n",
    "    'lead_time': 100,\n",
    "    'arrival_year': 2018,\n",
    "    'arrival_month': 8,\n",
    "    'arrival_date': 7,\n",
    "    'market_segment_type': 'Offline',\n",
    "    'repeated_guest': 0,\n",
    "    'no_of_previous_cancellations': 0,\n",
    "    'no_of_previous_bookings_not_canceled': 0,\n",
    "    'avg_price_per_room': 147.46,\n",
    "    'no_of_special_requests': 0\n",
    "}\n",
    "data_inf = pd.DataFrame([data_inf])\n",
    "data_inf"
   ]
  },
  {
   "cell_type": "code",
   "execution_count": 4,
   "metadata": {},
   "outputs": [
    {
     "name": "stdout",
     "output_type": "stream",
     "text": [
      "This booking predicted to be canceled\n"
     ]
    }
   ],
   "source": [
    "# Predict using Random Forest\n",
    "def check_class(label):\n",
    "    if label == 0:\n",
    "        return 'not canceled'\n",
    "    else:\n",
    "        return 'canceled'\n",
    "y_pred_inf = xgb_model.predict(data_inf)\n",
    "print('This booking predicted to be', check_class(y_pred_inf[0]))"
   ]
  }
 ],
 "metadata": {
  "kernelspec": {
   "display_name": "base",
   "language": "python",
   "name": "python3"
  },
  "language_info": {
   "codemirror_mode": {
    "name": "ipython",
    "version": 3
   },
   "file_extension": ".py",
   "mimetype": "text/x-python",
   "name": "python",
   "nbconvert_exporter": "python",
   "pygments_lexer": "ipython3",
   "version": "3.10.10"
  },
  "orig_nbformat": 4
 },
 "nbformat": 4,
 "nbformat_minor": 2
}
